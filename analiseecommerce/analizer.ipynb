{
 "cells": [
  {
   "cell_type": "code",
   "execution_count": 32,
   "id": "583982e1",
   "metadata": {},
   "outputs": [],
   "source": [
    "import pandas as pd\n",
    "import numpy as np\n",
    "import matplotlib.pyplot as plt\n",
    "import seaborn as sns\n",
    "import random\n",
    "from datetime import datetime, timedelta"
   ]
  },
  {
   "cell_type": "code",
   "execution_count": null,
   "id": "43e99f09",
   "metadata": {},
   "outputs": [],
   "source": [
    "def dados(num_reg = 600):\n",
    "\n",
    "    print(f'\\nIniciando a geração de {num_reg} registros de vendas')\n",
    "\n",
    "    produtos = {\n",
    "        'Laptop Gamer': {'categoria': 'Eletrônicos', 'preco': 7500.00},\n",
    "        'Mouse Vertical': {'categoria': 'Acessórios', 'preco': 250.00},\n",
    "        'Teclado Mecânico': {'categoria': 'Acessórios', 'preco': 550.00},\n",
    "        'Monitor Ultrawide': {'categoria': 'Eletrônicos', 'preco': 2800.00},\n",
    "        'Cadeira Gamer': {'categoria': 'Móveis', 'preco': 1200.00},\n",
    "        'Headset 7.1': {'categoria': 'Acessórios', 'preco': 800.00},\n",
    "        'Placa de Vídeo': {'categoria': 'Hardware', 'preco': 4500.00},\n",
    "        'SSD 1TB': {'categoria': 'Hardware', 'preco': 600.00}\n",
    "    }\n",
    "\n",
    "    lista_produtos = list(produtos.keys())\n",
    "\n",
    "    cidades_estados = {\n",
    "        'São Paulo': 'SP', 'Rio de Janeiro': 'RJ', 'Belo Horizonte': 'MG',\n",
    "        'Porto Alegre': 'RS', 'Salvador': 'BA', 'Curitiba': 'PR', 'Fortaleza': 'CE'\n",
    "    }\n",
    "\n",
    "    lista_cidades = list(cidades_estados.keys())\n",
    "\n",
    "    dados_vendas = []\n",
    "\n",
    "    data_inicial = datetime(2026, 1, 1)\n",
    "\n",
    "    for i in range(num_reg):\n",
    "        produto_nome = random.choice(lista_produtos)\n",
    "        cidade = random.choice(lista_cidades)\n",
    "        quantidade = np.random.randint(1, 8)\n",
    "        data_pedido = data_inicial + timedelta(days = int(i/5), hours = random.randint(0, 23))\n",
    "\n",
    "        if produto_nome in ['Mouse Verticial', 'Teclado Mecânico']:\n",
    "            preco_unitario = produtos[produto_nome]['preco'] * np.random.uniform(0.9, 1.0)\n",
    "        else:\n",
    "            preco_unitario = produtos[produto_nome]['preco']\n",
    "\n",
    "        dados_vendas.append({\n",
    "            'ID_Pedido': 1000 + i,\n",
    "            'Data_pedido': data_pedido,\n",
    "            'Nome_Produto': produto_nome, \n",
    "            'Categoria': produtos[produto_nome]['categoria'],\n",
    "            'Preco_Unitario': round(preco_unitario, 2),\n",
    "            'Quantidade': quantidade,\n",
    "            'ID_Cliente': np.random.randint(100,150),\n",
    "            'Cidade': cidade,\n",
    "            'Estado': cidades_estados[cidade]\n",
    "        })\n",
    "\n",
    "    print('A geração de dados foi concluída.\\n')\n",
    "\n",
    "    return pd.DataFrame(dados_vendas)"
   ]
  },
  {
   "cell_type": "code",
   "execution_count": 7,
   "id": "cf6ffb77",
   "metadata": {},
   "outputs": [
    {
     "name": "stdout",
     "output_type": "stream",
     "text": [
      "\n",
      "Iniciando a geração de 500 registros de vendas\n",
      "A geração de dados foi concluída.\n",
      "\n"
     ]
    }
   ],
   "source": [
    "df_vendas = dados(500)"
   ]
  },
  {
   "cell_type": "code",
   "execution_count": 9,
   "id": "c3ed585d",
   "metadata": {},
   "outputs": [
    {
     "data": {
      "text/plain": [
       "pandas.core.frame.DataFrame"
      ]
     },
     "execution_count": 9,
     "metadata": {},
     "output_type": "execute_result"
    }
   ],
   "source": [
    "type(df_vendas)"
   ]
  },
  {
   "cell_type": "code",
   "execution_count": 11,
   "id": "ee23930f",
   "metadata": {},
   "outputs": [
    {
     "data": {
      "text/plain": [
       "(500, 9)"
      ]
     },
     "execution_count": 11,
     "metadata": {},
     "output_type": "execute_result"
    }
   ],
   "source": [
    "df_vendas.shape"
   ]
  },
  {
   "cell_type": "code",
   "execution_count": 12,
   "id": "2fe75528",
   "metadata": {},
   "outputs": [
    {
     "data": {
      "application/vnd.microsoft.datawrangler.viewer.v0+json": {
       "columns": [
        {
         "name": "index",
         "rawType": "int64",
         "type": "integer"
        },
        {
         "name": "ID_Pedido",
         "rawType": "int64",
         "type": "integer"
        },
        {
         "name": "Data_pedido",
         "rawType": "datetime64[ns]",
         "type": "datetime"
        },
        {
         "name": "Nome_Produto",
         "rawType": "object",
         "type": "string"
        },
        {
         "name": "Categoria",
         "rawType": "object",
         "type": "string"
        },
        {
         "name": "Preco_Unitario",
         "rawType": "float64",
         "type": "float"
        },
        {
         "name": "Quantidade",
         "rawType": "int64",
         "type": "integer"
        },
        {
         "name": "ID_Cliente",
         "rawType": "int64",
         "type": "integer"
        },
        {
         "name": "Cidade",
         "rawType": "object",
         "type": "string"
        },
        {
         "name": "Estado",
         "rawType": "object",
         "type": "string"
        }
       ],
       "ref": "b4e7656c-0a51-4f60-b143-64d9db340fb7",
       "rows": [
        [
         "0",
         "1000",
         "2026-01-01 02:00:00",
         "Monitor Ultrawide",
         "Eletrônicos",
         "2800.0",
         "3",
         "120",
         "Rio de Janeiro",
         "RJ"
        ],
        [
         "1",
         "1001",
         "2026-01-01 21:00:00",
         "Monitor Ultrawide",
         "Eletrônicos",
         "2800.0",
         "6",
         "137",
         "Curitiba",
         "PR"
        ],
        [
         "2",
         "1002",
         "2026-01-01 21:00:00",
         "Laptop Gamer",
         "Eletrônicos",
         "7500.0",
         "5",
         "100",
         "Curitiba",
         "PR"
        ],
        [
         "3",
         "1003",
         "2026-01-01 14:00:00",
         "SSD 1TB",
         "Hardware",
         "600.0",
         "5",
         "132",
         "São Paulo",
         "SP"
        ],
        [
         "4",
         "1004",
         "2026-01-01 23:00:00",
         "Mouse Vertical",
         "Acessórios",
         "250.0",
         "1",
         "136",
         "Salvador",
         "BA"
        ]
       ],
       "shape": {
        "columns": 9,
        "rows": 5
       }
      },
      "text/html": [
       "<div>\n",
       "<style scoped>\n",
       "    .dataframe tbody tr th:only-of-type {\n",
       "        vertical-align: middle;\n",
       "    }\n",
       "\n",
       "    .dataframe tbody tr th {\n",
       "        vertical-align: top;\n",
       "    }\n",
       "\n",
       "    .dataframe thead th {\n",
       "        text-align: right;\n",
       "    }\n",
       "</style>\n",
       "<table border=\"1\" class=\"dataframe\">\n",
       "  <thead>\n",
       "    <tr style=\"text-align: right;\">\n",
       "      <th></th>\n",
       "      <th>ID_Pedido</th>\n",
       "      <th>Data_pedido</th>\n",
       "      <th>Nome_Produto</th>\n",
       "      <th>Categoria</th>\n",
       "      <th>Preco_Unitario</th>\n",
       "      <th>Quantidade</th>\n",
       "      <th>ID_Cliente</th>\n",
       "      <th>Cidade</th>\n",
       "      <th>Estado</th>\n",
       "    </tr>\n",
       "  </thead>\n",
       "  <tbody>\n",
       "    <tr>\n",
       "      <th>0</th>\n",
       "      <td>1000</td>\n",
       "      <td>2026-01-01 02:00:00</td>\n",
       "      <td>Monitor Ultrawide</td>\n",
       "      <td>Eletrônicos</td>\n",
       "      <td>2800.0</td>\n",
       "      <td>3</td>\n",
       "      <td>120</td>\n",
       "      <td>Rio de Janeiro</td>\n",
       "      <td>RJ</td>\n",
       "    </tr>\n",
       "    <tr>\n",
       "      <th>1</th>\n",
       "      <td>1001</td>\n",
       "      <td>2026-01-01 21:00:00</td>\n",
       "      <td>Monitor Ultrawide</td>\n",
       "      <td>Eletrônicos</td>\n",
       "      <td>2800.0</td>\n",
       "      <td>6</td>\n",
       "      <td>137</td>\n",
       "      <td>Curitiba</td>\n",
       "      <td>PR</td>\n",
       "    </tr>\n",
       "    <tr>\n",
       "      <th>2</th>\n",
       "      <td>1002</td>\n",
       "      <td>2026-01-01 21:00:00</td>\n",
       "      <td>Laptop Gamer</td>\n",
       "      <td>Eletrônicos</td>\n",
       "      <td>7500.0</td>\n",
       "      <td>5</td>\n",
       "      <td>100</td>\n",
       "      <td>Curitiba</td>\n",
       "      <td>PR</td>\n",
       "    </tr>\n",
       "    <tr>\n",
       "      <th>3</th>\n",
       "      <td>1003</td>\n",
       "      <td>2026-01-01 14:00:00</td>\n",
       "      <td>SSD 1TB</td>\n",
       "      <td>Hardware</td>\n",
       "      <td>600.0</td>\n",
       "      <td>5</td>\n",
       "      <td>132</td>\n",
       "      <td>São Paulo</td>\n",
       "      <td>SP</td>\n",
       "    </tr>\n",
       "    <tr>\n",
       "      <th>4</th>\n",
       "      <td>1004</td>\n",
       "      <td>2026-01-01 23:00:00</td>\n",
       "      <td>Mouse Vertical</td>\n",
       "      <td>Acessórios</td>\n",
       "      <td>250.0</td>\n",
       "      <td>1</td>\n",
       "      <td>136</td>\n",
       "      <td>Salvador</td>\n",
       "      <td>BA</td>\n",
       "    </tr>\n",
       "  </tbody>\n",
       "</table>\n",
       "</div>"
      ],
      "text/plain": [
       "   ID_Pedido         Data_pedido       Nome_Produto    Categoria  \\\n",
       "0       1000 2026-01-01 02:00:00  Monitor Ultrawide  Eletrônicos   \n",
       "1       1001 2026-01-01 21:00:00  Monitor Ultrawide  Eletrônicos   \n",
       "2       1002 2026-01-01 21:00:00       Laptop Gamer  Eletrônicos   \n",
       "3       1003 2026-01-01 14:00:00            SSD 1TB     Hardware   \n",
       "4       1004 2026-01-01 23:00:00     Mouse Vertical   Acessórios   \n",
       "\n",
       "   Preco_Unitario  Quantidade  ID_Cliente          Cidade Estado  \n",
       "0          2800.0           3         120  Rio de Janeiro     RJ  \n",
       "1          2800.0           6         137        Curitiba     PR  \n",
       "2          7500.0           5         100        Curitiba     PR  \n",
       "3           600.0           5         132       São Paulo     SP  \n",
       "4           250.0           1         136        Salvador     BA  "
      ]
     },
     "execution_count": 12,
     "metadata": {},
     "output_type": "execute_result"
    }
   ],
   "source": [
    "df_vendas.head()"
   ]
  },
  {
   "cell_type": "code",
   "execution_count": 13,
   "id": "d9a22aac",
   "metadata": {},
   "outputs": [
    {
     "data": {
      "application/vnd.microsoft.datawrangler.viewer.v0+json": {
       "columns": [
        {
         "name": "index",
         "rawType": "int64",
         "type": "integer"
        },
        {
         "name": "ID_Pedido",
         "rawType": "int64",
         "type": "integer"
        },
        {
         "name": "Data_pedido",
         "rawType": "datetime64[ns]",
         "type": "datetime"
        },
        {
         "name": "Nome_Produto",
         "rawType": "object",
         "type": "string"
        },
        {
         "name": "Categoria",
         "rawType": "object",
         "type": "string"
        },
        {
         "name": "Preco_Unitario",
         "rawType": "float64",
         "type": "float"
        },
        {
         "name": "Quantidade",
         "rawType": "int64",
         "type": "integer"
        },
        {
         "name": "ID_Cliente",
         "rawType": "int64",
         "type": "integer"
        },
        {
         "name": "Cidade",
         "rawType": "object",
         "type": "string"
        },
        {
         "name": "Estado",
         "rawType": "object",
         "type": "string"
        }
       ],
       "ref": "c72625fa-3c6f-47e4-ab95-4b57ceed66bd",
       "rows": [
        [
         "495",
         "1495",
         "2026-04-10 16:00:00",
         "Placa de Vídeo",
         "Hardware",
         "4500.0",
         "3",
         "136",
         "São Paulo",
         "SP"
        ],
        [
         "496",
         "1496",
         "2026-04-10 04:00:00",
         "Teclado Mecânico",
         "Acessórios",
         "532.21",
         "2",
         "120",
         "Belo Horizonte",
         "MG"
        ],
        [
         "497",
         "1497",
         "2026-04-10 06:00:00",
         "Cadeira Gamer",
         "Móveis",
         "1200.0",
         "6",
         "113",
         "Porto Alegre",
         "RS"
        ],
        [
         "498",
         "1498",
         "2026-04-10 00:00:00",
         "Headset 7.1",
         "Acessórios",
         "800.0",
         "3",
         "117",
         "Salvador",
         "BA"
        ],
        [
         "499",
         "1499",
         "2026-04-10 15:00:00",
         "Cadeira Gamer",
         "Móveis",
         "1200.0",
         "7",
         "143",
         "São Paulo",
         "SP"
        ]
       ],
       "shape": {
        "columns": 9,
        "rows": 5
       }
      },
      "text/html": [
       "<div>\n",
       "<style scoped>\n",
       "    .dataframe tbody tr th:only-of-type {\n",
       "        vertical-align: middle;\n",
       "    }\n",
       "\n",
       "    .dataframe tbody tr th {\n",
       "        vertical-align: top;\n",
       "    }\n",
       "\n",
       "    .dataframe thead th {\n",
       "        text-align: right;\n",
       "    }\n",
       "</style>\n",
       "<table border=\"1\" class=\"dataframe\">\n",
       "  <thead>\n",
       "    <tr style=\"text-align: right;\">\n",
       "      <th></th>\n",
       "      <th>ID_Pedido</th>\n",
       "      <th>Data_pedido</th>\n",
       "      <th>Nome_Produto</th>\n",
       "      <th>Categoria</th>\n",
       "      <th>Preco_Unitario</th>\n",
       "      <th>Quantidade</th>\n",
       "      <th>ID_Cliente</th>\n",
       "      <th>Cidade</th>\n",
       "      <th>Estado</th>\n",
       "    </tr>\n",
       "  </thead>\n",
       "  <tbody>\n",
       "    <tr>\n",
       "      <th>495</th>\n",
       "      <td>1495</td>\n",
       "      <td>2026-04-10 16:00:00</td>\n",
       "      <td>Placa de Vídeo</td>\n",
       "      <td>Hardware</td>\n",
       "      <td>4500.00</td>\n",
       "      <td>3</td>\n",
       "      <td>136</td>\n",
       "      <td>São Paulo</td>\n",
       "      <td>SP</td>\n",
       "    </tr>\n",
       "    <tr>\n",
       "      <th>496</th>\n",
       "      <td>1496</td>\n",
       "      <td>2026-04-10 04:00:00</td>\n",
       "      <td>Teclado Mecânico</td>\n",
       "      <td>Acessórios</td>\n",
       "      <td>532.21</td>\n",
       "      <td>2</td>\n",
       "      <td>120</td>\n",
       "      <td>Belo Horizonte</td>\n",
       "      <td>MG</td>\n",
       "    </tr>\n",
       "    <tr>\n",
       "      <th>497</th>\n",
       "      <td>1497</td>\n",
       "      <td>2026-04-10 06:00:00</td>\n",
       "      <td>Cadeira Gamer</td>\n",
       "      <td>Móveis</td>\n",
       "      <td>1200.00</td>\n",
       "      <td>6</td>\n",
       "      <td>113</td>\n",
       "      <td>Porto Alegre</td>\n",
       "      <td>RS</td>\n",
       "    </tr>\n",
       "    <tr>\n",
       "      <th>498</th>\n",
       "      <td>1498</td>\n",
       "      <td>2026-04-10 00:00:00</td>\n",
       "      <td>Headset 7.1</td>\n",
       "      <td>Acessórios</td>\n",
       "      <td>800.00</td>\n",
       "      <td>3</td>\n",
       "      <td>117</td>\n",
       "      <td>Salvador</td>\n",
       "      <td>BA</td>\n",
       "    </tr>\n",
       "    <tr>\n",
       "      <th>499</th>\n",
       "      <td>1499</td>\n",
       "      <td>2026-04-10 15:00:00</td>\n",
       "      <td>Cadeira Gamer</td>\n",
       "      <td>Móveis</td>\n",
       "      <td>1200.00</td>\n",
       "      <td>7</td>\n",
       "      <td>143</td>\n",
       "      <td>São Paulo</td>\n",
       "      <td>SP</td>\n",
       "    </tr>\n",
       "  </tbody>\n",
       "</table>\n",
       "</div>"
      ],
      "text/plain": [
       "     ID_Pedido         Data_pedido      Nome_Produto   Categoria  \\\n",
       "495       1495 2026-04-10 16:00:00    Placa de Vídeo    Hardware   \n",
       "496       1496 2026-04-10 04:00:00  Teclado Mecânico  Acessórios   \n",
       "497       1497 2026-04-10 06:00:00     Cadeira Gamer      Móveis   \n",
       "498       1498 2026-04-10 00:00:00       Headset 7.1  Acessórios   \n",
       "499       1499 2026-04-10 15:00:00     Cadeira Gamer      Móveis   \n",
       "\n",
       "     Preco_Unitario  Quantidade  ID_Cliente          Cidade Estado  \n",
       "495         4500.00           3         136       São Paulo     SP  \n",
       "496          532.21           2         120  Belo Horizonte     MG  \n",
       "497         1200.00           6         113    Porto Alegre     RS  \n",
       "498          800.00           3         117        Salvador     BA  \n",
       "499         1200.00           7         143       São Paulo     SP  "
      ]
     },
     "execution_count": 13,
     "metadata": {},
     "output_type": "execute_result"
    }
   ],
   "source": [
    "df_vendas.tail()"
   ]
  },
  {
   "cell_type": "code",
   "execution_count": 14,
   "id": "dd1a80a9",
   "metadata": {},
   "outputs": [
    {
     "name": "stdout",
     "output_type": "stream",
     "text": [
      "<class 'pandas.core.frame.DataFrame'>\n",
      "RangeIndex: 500 entries, 0 to 499\n",
      "Data columns (total 9 columns):\n",
      " #   Column          Non-Null Count  Dtype         \n",
      "---  ------          --------------  -----         \n",
      " 0   ID_Pedido       500 non-null    int64         \n",
      " 1   Data_pedido     500 non-null    datetime64[ns]\n",
      " 2   Nome_Produto    500 non-null    object        \n",
      " 3   Categoria       500 non-null    object        \n",
      " 4   Preco_Unitario  500 non-null    float64       \n",
      " 5   Quantidade      500 non-null    int64         \n",
      " 6   ID_Cliente      500 non-null    int64         \n",
      " 7   Cidade          500 non-null    object        \n",
      " 8   Estado          500 non-null    object        \n",
      "dtypes: datetime64[ns](1), float64(1), int64(3), object(4)\n",
      "memory usage: 35.3+ KB\n"
     ]
    }
   ],
   "source": [
    "df_vendas.info()"
   ]
  },
  {
   "cell_type": "code",
   "execution_count": 15,
   "id": "b8b7a084",
   "metadata": {},
   "outputs": [
    {
     "data": {
      "application/vnd.microsoft.datawrangler.viewer.v0+json": {
       "columns": [
        {
         "name": "index",
         "rawType": "object",
         "type": "string"
        },
        {
         "name": "ID_Pedido",
         "rawType": "float64",
         "type": "float"
        },
        {
         "name": "Data_pedido",
         "rawType": "object",
         "type": "unknown"
        },
        {
         "name": "Preco_Unitario",
         "rawType": "float64",
         "type": "float"
        },
        {
         "name": "Quantidade",
         "rawType": "float64",
         "type": "float"
        },
        {
         "name": "ID_Cliente",
         "rawType": "float64",
         "type": "float"
        }
       ],
       "ref": "7354f606-489f-493e-8e90-24127a0e8cf1",
       "rows": [
        [
         "count",
         "500.0",
         "500",
         "500.0",
         "500.0",
         "500.0"
        ],
        [
         "mean",
         "1249.5",
         "2026-02-19 23:27:14.400000",
         "2188.5004799999997",
         "4.058",
         "124.218"
        ],
        [
         "min",
         "1000.0",
         "2026-01-01 02:00:00",
         "250.0",
         "1.0",
         "100.0"
        ],
        [
         "25%",
         "1124.75",
         "2026-01-25 20:30:00",
         "548.2625",
         "2.0",
         "111.0"
        ],
        [
         "50%",
         "1249.5",
         "2026-02-20 01:00:00",
         "800.0",
         "4.0",
         "124.0"
        ],
        [
         "75%",
         "1374.25",
         "2026-03-16 18:15:00",
         "2800.0",
         "6.0",
         "137.0"
        ],
        [
         "max",
         "1499.0",
         "2026-04-10 16:00:00",
         "7500.0",
         "7.0",
         "149.0"
        ],
        [
         "std",
         "144.4818327679989",
         null,
         "2374.3203129329795",
         "2.005662325199691",
         "14.702339731728902"
        ]
       ],
       "shape": {
        "columns": 5,
        "rows": 8
       }
      },
      "text/html": [
       "<div>\n",
       "<style scoped>\n",
       "    .dataframe tbody tr th:only-of-type {\n",
       "        vertical-align: middle;\n",
       "    }\n",
       "\n",
       "    .dataframe tbody tr th {\n",
       "        vertical-align: top;\n",
       "    }\n",
       "\n",
       "    .dataframe thead th {\n",
       "        text-align: right;\n",
       "    }\n",
       "</style>\n",
       "<table border=\"1\" class=\"dataframe\">\n",
       "  <thead>\n",
       "    <tr style=\"text-align: right;\">\n",
       "      <th></th>\n",
       "      <th>ID_Pedido</th>\n",
       "      <th>Data_pedido</th>\n",
       "      <th>Preco_Unitario</th>\n",
       "      <th>Quantidade</th>\n",
       "      <th>ID_Cliente</th>\n",
       "    </tr>\n",
       "  </thead>\n",
       "  <tbody>\n",
       "    <tr>\n",
       "      <th>count</th>\n",
       "      <td>500.000000</td>\n",
       "      <td>500</td>\n",
       "      <td>500.000000</td>\n",
       "      <td>500.000000</td>\n",
       "      <td>500.00000</td>\n",
       "    </tr>\n",
       "    <tr>\n",
       "      <th>mean</th>\n",
       "      <td>1249.500000</td>\n",
       "      <td>2026-02-19 23:27:14.400000</td>\n",
       "      <td>2188.500480</td>\n",
       "      <td>4.058000</td>\n",
       "      <td>124.21800</td>\n",
       "    </tr>\n",
       "    <tr>\n",
       "      <th>min</th>\n",
       "      <td>1000.000000</td>\n",
       "      <td>2026-01-01 02:00:00</td>\n",
       "      <td>250.000000</td>\n",
       "      <td>1.000000</td>\n",
       "      <td>100.00000</td>\n",
       "    </tr>\n",
       "    <tr>\n",
       "      <th>25%</th>\n",
       "      <td>1124.750000</td>\n",
       "      <td>2026-01-25 20:30:00</td>\n",
       "      <td>548.262500</td>\n",
       "      <td>2.000000</td>\n",
       "      <td>111.00000</td>\n",
       "    </tr>\n",
       "    <tr>\n",
       "      <th>50%</th>\n",
       "      <td>1249.500000</td>\n",
       "      <td>2026-02-20 01:00:00</td>\n",
       "      <td>800.000000</td>\n",
       "      <td>4.000000</td>\n",
       "      <td>124.00000</td>\n",
       "    </tr>\n",
       "    <tr>\n",
       "      <th>75%</th>\n",
       "      <td>1374.250000</td>\n",
       "      <td>2026-03-16 18:15:00</td>\n",
       "      <td>2800.000000</td>\n",
       "      <td>6.000000</td>\n",
       "      <td>137.00000</td>\n",
       "    </tr>\n",
       "    <tr>\n",
       "      <th>max</th>\n",
       "      <td>1499.000000</td>\n",
       "      <td>2026-04-10 16:00:00</td>\n",
       "      <td>7500.000000</td>\n",
       "      <td>7.000000</td>\n",
       "      <td>149.00000</td>\n",
       "    </tr>\n",
       "    <tr>\n",
       "      <th>std</th>\n",
       "      <td>144.481833</td>\n",
       "      <td>NaN</td>\n",
       "      <td>2374.320313</td>\n",
       "      <td>2.005662</td>\n",
       "      <td>14.70234</td>\n",
       "    </tr>\n",
       "  </tbody>\n",
       "</table>\n",
       "</div>"
      ],
      "text/plain": [
       "         ID_Pedido                 Data_pedido  Preco_Unitario  Quantidade  \\\n",
       "count   500.000000                         500      500.000000  500.000000   \n",
       "mean   1249.500000  2026-02-19 23:27:14.400000     2188.500480    4.058000   \n",
       "min    1000.000000         2026-01-01 02:00:00      250.000000    1.000000   \n",
       "25%    1124.750000         2026-01-25 20:30:00      548.262500    2.000000   \n",
       "50%    1249.500000         2026-02-20 01:00:00      800.000000    4.000000   \n",
       "75%    1374.250000         2026-03-16 18:15:00     2800.000000    6.000000   \n",
       "max    1499.000000         2026-04-10 16:00:00     7500.000000    7.000000   \n",
       "std     144.481833                         NaN     2374.320313    2.005662   \n",
       "\n",
       "       ID_Cliente  \n",
       "count   500.00000  \n",
       "mean    124.21800  \n",
       "min     100.00000  \n",
       "25%     111.00000  \n",
       "50%     124.00000  \n",
       "75%     137.00000  \n",
       "max     149.00000  \n",
       "std      14.70234  "
      ]
     },
     "execution_count": 15,
     "metadata": {},
     "output_type": "execute_result"
    }
   ],
   "source": [
    "df_vendas.describe()"
   ]
  },
  {
   "cell_type": "code",
   "execution_count": 16,
   "id": "565162fe",
   "metadata": {},
   "outputs": [
    {
     "data": {
      "application/vnd.microsoft.datawrangler.viewer.v0+json": {
       "columns": [
        {
         "name": "index",
         "rawType": "object",
         "type": "string"
        },
        {
         "name": "0",
         "rawType": "object",
         "type": "unknown"
        }
       ],
       "ref": "74f73808-4d4a-46e8-b63e-b8c980c31793",
       "rows": [
        [
         "ID_Pedido",
         "int64"
        ],
        [
         "Data_pedido",
         "datetime64[ns]"
        ],
        [
         "Nome_Produto",
         "object"
        ],
        [
         "Categoria",
         "object"
        ],
        [
         "Preco_Unitario",
         "float64"
        ],
        [
         "Quantidade",
         "int64"
        ],
        [
         "ID_Cliente",
         "int64"
        ],
        [
         "Cidade",
         "object"
        ],
        [
         "Estado",
         "object"
        ]
       ],
       "shape": {
        "columns": 1,
        "rows": 9
       }
      },
      "text/plain": [
       "ID_Pedido                  int64\n",
       "Data_pedido       datetime64[ns]\n",
       "Nome_Produto              object\n",
       "Categoria                 object\n",
       "Preco_Unitario           float64\n",
       "Quantidade                 int64\n",
       "ID_Cliente                 int64\n",
       "Cidade                    object\n",
       "Estado                    object\n",
       "dtype: object"
      ]
     },
     "execution_count": 16,
     "metadata": {},
     "output_type": "execute_result"
    }
   ],
   "source": [
    "df_vendas.dtypes"
   ]
  },
  {
   "cell_type": "code",
   "execution_count": 17,
   "id": "8544954b",
   "metadata": {},
   "outputs": [],
   "source": [
    "df_vendas['Data_pedido'] = pd.to_datetime(df_vendas['Data_pedido'])"
   ]
  },
  {
   "cell_type": "code",
   "execution_count": 19,
   "id": "a4d738bd",
   "metadata": {},
   "outputs": [],
   "source": [
    "df_vendas['Faturamento'] = df_vendas['Preco_Unitario'] * df_vendas['Quantidade']"
   ]
  },
  {
   "cell_type": "code",
   "execution_count": 20,
   "id": "20381277",
   "metadata": {},
   "outputs": [],
   "source": [
    "df_vendas['Status_Entrega'] = df_vendas['Estado'].apply(lambda estado: 'Rápida' if estado in ['SP', 'RJ', 'MG'] else 'Normal')"
   ]
  },
  {
   "cell_type": "code",
   "execution_count": 21,
   "id": "eaa303cc",
   "metadata": {},
   "outputs": [
    {
     "name": "stdout",
     "output_type": "stream",
     "text": [
      "<class 'pandas.core.frame.DataFrame'>\n",
      "RangeIndex: 500 entries, 0 to 499\n",
      "Data columns (total 11 columns):\n",
      " #   Column          Non-Null Count  Dtype         \n",
      "---  ------          --------------  -----         \n",
      " 0   ID_Pedido       500 non-null    int64         \n",
      " 1   Data_pedido     500 non-null    datetime64[ns]\n",
      " 2   Nome_Produto    500 non-null    object        \n",
      " 3   Categoria       500 non-null    object        \n",
      " 4   Preco_Unitario  500 non-null    float64       \n",
      " 5   Quantidade      500 non-null    int64         \n",
      " 6   ID_Cliente      500 non-null    int64         \n",
      " 7   Cidade          500 non-null    object        \n",
      " 8   Estado          500 non-null    object        \n",
      " 9   Faturamento     500 non-null    float64       \n",
      " 10  Status_Entrega  500 non-null    object        \n",
      "dtypes: datetime64[ns](1), float64(2), int64(3), object(5)\n",
      "memory usage: 43.1+ KB\n"
     ]
    }
   ],
   "source": [
    "df_vendas.info()"
   ]
  },
  {
   "cell_type": "code",
   "execution_count": 22,
   "id": "9c669789",
   "metadata": {},
   "outputs": [
    {
     "data": {
      "application/vnd.microsoft.datawrangler.viewer.v0+json": {
       "columns": [
        {
         "name": "index",
         "rawType": "int64",
         "type": "integer"
        },
        {
         "name": "ID_Pedido",
         "rawType": "int64",
         "type": "integer"
        },
        {
         "name": "Data_pedido",
         "rawType": "datetime64[ns]",
         "type": "datetime"
        },
        {
         "name": "Nome_Produto",
         "rawType": "object",
         "type": "string"
        },
        {
         "name": "Categoria",
         "rawType": "object",
         "type": "string"
        },
        {
         "name": "Preco_Unitario",
         "rawType": "float64",
         "type": "float"
        },
        {
         "name": "Quantidade",
         "rawType": "int64",
         "type": "integer"
        },
        {
         "name": "ID_Cliente",
         "rawType": "int64",
         "type": "integer"
        },
        {
         "name": "Cidade",
         "rawType": "object",
         "type": "string"
        },
        {
         "name": "Estado",
         "rawType": "object",
         "type": "string"
        },
        {
         "name": "Faturamento",
         "rawType": "float64",
         "type": "float"
        },
        {
         "name": "Status_Entrega",
         "rawType": "object",
         "type": "string"
        }
       ],
       "ref": "49dcd36f-ba36-41d5-93ea-d94f19f23c39",
       "rows": [
        [
         "0",
         "1000",
         "2026-01-01 02:00:00",
         "Monitor Ultrawide",
         "Eletrônicos",
         "2800.0",
         "3",
         "120",
         "Rio de Janeiro",
         "RJ",
         "8400.0",
         "Rápida"
        ],
        [
         "1",
         "1001",
         "2026-01-01 21:00:00",
         "Monitor Ultrawide",
         "Eletrônicos",
         "2800.0",
         "6",
         "137",
         "Curitiba",
         "PR",
         "16800.0",
         "Normal"
        ],
        [
         "2",
         "1002",
         "2026-01-01 21:00:00",
         "Laptop Gamer",
         "Eletrônicos",
         "7500.0",
         "5",
         "100",
         "Curitiba",
         "PR",
         "37500.0",
         "Normal"
        ],
        [
         "3",
         "1003",
         "2026-01-01 14:00:00",
         "SSD 1TB",
         "Hardware",
         "600.0",
         "5",
         "132",
         "São Paulo",
         "SP",
         "3000.0",
         "Rápida"
        ],
        [
         "4",
         "1004",
         "2026-01-01 23:00:00",
         "Mouse Vertical",
         "Acessórios",
         "250.0",
         "1",
         "136",
         "Salvador",
         "BA",
         "250.0",
         "Normal"
        ]
       ],
       "shape": {
        "columns": 11,
        "rows": 5
       }
      },
      "text/html": [
       "<div>\n",
       "<style scoped>\n",
       "    .dataframe tbody tr th:only-of-type {\n",
       "        vertical-align: middle;\n",
       "    }\n",
       "\n",
       "    .dataframe tbody tr th {\n",
       "        vertical-align: top;\n",
       "    }\n",
       "\n",
       "    .dataframe thead th {\n",
       "        text-align: right;\n",
       "    }\n",
       "</style>\n",
       "<table border=\"1\" class=\"dataframe\">\n",
       "  <thead>\n",
       "    <tr style=\"text-align: right;\">\n",
       "      <th></th>\n",
       "      <th>ID_Pedido</th>\n",
       "      <th>Data_pedido</th>\n",
       "      <th>Nome_Produto</th>\n",
       "      <th>Categoria</th>\n",
       "      <th>Preco_Unitario</th>\n",
       "      <th>Quantidade</th>\n",
       "      <th>ID_Cliente</th>\n",
       "      <th>Cidade</th>\n",
       "      <th>Estado</th>\n",
       "      <th>Faturamento</th>\n",
       "      <th>Status_Entrega</th>\n",
       "    </tr>\n",
       "  </thead>\n",
       "  <tbody>\n",
       "    <tr>\n",
       "      <th>0</th>\n",
       "      <td>1000</td>\n",
       "      <td>2026-01-01 02:00:00</td>\n",
       "      <td>Monitor Ultrawide</td>\n",
       "      <td>Eletrônicos</td>\n",
       "      <td>2800.0</td>\n",
       "      <td>3</td>\n",
       "      <td>120</td>\n",
       "      <td>Rio de Janeiro</td>\n",
       "      <td>RJ</td>\n",
       "      <td>8400.0</td>\n",
       "      <td>Rápida</td>\n",
       "    </tr>\n",
       "    <tr>\n",
       "      <th>1</th>\n",
       "      <td>1001</td>\n",
       "      <td>2026-01-01 21:00:00</td>\n",
       "      <td>Monitor Ultrawide</td>\n",
       "      <td>Eletrônicos</td>\n",
       "      <td>2800.0</td>\n",
       "      <td>6</td>\n",
       "      <td>137</td>\n",
       "      <td>Curitiba</td>\n",
       "      <td>PR</td>\n",
       "      <td>16800.0</td>\n",
       "      <td>Normal</td>\n",
       "    </tr>\n",
       "    <tr>\n",
       "      <th>2</th>\n",
       "      <td>1002</td>\n",
       "      <td>2026-01-01 21:00:00</td>\n",
       "      <td>Laptop Gamer</td>\n",
       "      <td>Eletrônicos</td>\n",
       "      <td>7500.0</td>\n",
       "      <td>5</td>\n",
       "      <td>100</td>\n",
       "      <td>Curitiba</td>\n",
       "      <td>PR</td>\n",
       "      <td>37500.0</td>\n",
       "      <td>Normal</td>\n",
       "    </tr>\n",
       "    <tr>\n",
       "      <th>3</th>\n",
       "      <td>1003</td>\n",
       "      <td>2026-01-01 14:00:00</td>\n",
       "      <td>SSD 1TB</td>\n",
       "      <td>Hardware</td>\n",
       "      <td>600.0</td>\n",
       "      <td>5</td>\n",
       "      <td>132</td>\n",
       "      <td>São Paulo</td>\n",
       "      <td>SP</td>\n",
       "      <td>3000.0</td>\n",
       "      <td>Rápida</td>\n",
       "    </tr>\n",
       "    <tr>\n",
       "      <th>4</th>\n",
       "      <td>1004</td>\n",
       "      <td>2026-01-01 23:00:00</td>\n",
       "      <td>Mouse Vertical</td>\n",
       "      <td>Acessórios</td>\n",
       "      <td>250.0</td>\n",
       "      <td>1</td>\n",
       "      <td>136</td>\n",
       "      <td>Salvador</td>\n",
       "      <td>BA</td>\n",
       "      <td>250.0</td>\n",
       "      <td>Normal</td>\n",
       "    </tr>\n",
       "  </tbody>\n",
       "</table>\n",
       "</div>"
      ],
      "text/plain": [
       "   ID_Pedido         Data_pedido       Nome_Produto    Categoria  \\\n",
       "0       1000 2026-01-01 02:00:00  Monitor Ultrawide  Eletrônicos   \n",
       "1       1001 2026-01-01 21:00:00  Monitor Ultrawide  Eletrônicos   \n",
       "2       1002 2026-01-01 21:00:00       Laptop Gamer  Eletrônicos   \n",
       "3       1003 2026-01-01 14:00:00            SSD 1TB     Hardware   \n",
       "4       1004 2026-01-01 23:00:00     Mouse Vertical   Acessórios   \n",
       "\n",
       "   Preco_Unitario  Quantidade  ID_Cliente          Cidade Estado  Faturamento  \\\n",
       "0          2800.0           3         120  Rio de Janeiro     RJ       8400.0   \n",
       "1          2800.0           6         137        Curitiba     PR      16800.0   \n",
       "2          7500.0           5         100        Curitiba     PR      37500.0   \n",
       "3           600.0           5         132       São Paulo     SP       3000.0   \n",
       "4           250.0           1         136        Salvador     BA        250.0   \n",
       "\n",
       "  Status_Entrega  \n",
       "0         Rápida  \n",
       "1         Normal  \n",
       "2         Normal  \n",
       "3         Rápida  \n",
       "4         Normal  "
      ]
     },
     "execution_count": 22,
     "metadata": {},
     "output_type": "execute_result"
    }
   ],
   "source": [
    "df_vendas.head()"
   ]
  },
  {
   "cell_type": "code",
   "execution_count": 27,
   "id": "d8f28f0c",
   "metadata": {},
   "outputs": [],
   "source": [
    "top10 = df_vendas.groupby('Nome_Produto')['Quantidade'].sum().sort_values(ascending = False).head(10)"
   ]
  },
  {
   "cell_type": "code",
   "execution_count": 28,
   "id": "f571fc6e",
   "metadata": {},
   "outputs": [
    {
     "data": {
      "application/vnd.microsoft.datawrangler.viewer.v0+json": {
       "columns": [
        {
         "name": "Nome_Produto",
         "rawType": "object",
         "type": "string"
        },
        {
         "name": "Quantidade",
         "rawType": "int64",
         "type": "integer"
        }
       ],
       "ref": "21d86809-111a-4f5b-b715-f6000e2723cb",
       "rows": [
        [
         "Headset 7.1",
         "309"
        ],
        [
         "Mouse Vertical",
         "281"
        ],
        [
         "Teclado Mecânico",
         "261"
        ],
        [
         "Cadeira Gamer",
         "256"
        ],
        [
         "SSD 1TB",
         "236"
        ],
        [
         "Monitor Ultrawide",
         "236"
        ],
        [
         "Placa de Vídeo",
         "230"
        ],
        [
         "Laptop Gamer",
         "220"
        ]
       ],
       "shape": {
        "columns": 1,
        "rows": 8
       }
      },
      "text/plain": [
       "Nome_Produto\n",
       "Headset 7.1          309\n",
       "Mouse Vertical       281\n",
       "Teclado Mecânico     261\n",
       "Cadeira Gamer        256\n",
       "SSD 1TB              236\n",
       "Monitor Ultrawide    236\n",
       "Placa de Vídeo       230\n",
       "Laptop Gamer         220\n",
       "Name: Quantidade, dtype: int64"
      ]
     },
     "execution_count": 28,
     "metadata": {},
     "output_type": "execute_result"
    }
   ],
   "source": [
    "top10"
   ]
  },
  {
   "cell_type": "code",
   "execution_count": 49,
   "id": "1499d7e3",
   "metadata": {},
   "outputs": [
    {
     "data": {
      "image/png": "[encoded data removed]",
      "text/plain": [
       "<Figure size 1200x700 with 1 Axes>"
      ]
     },
     "metadata": {},
     "output_type": "display_data"
    }
   ],
   "source": [
    "\n",
    "sns.set_style('whitegrid')\n",
    "plt.figure(figsize = (12, 7))\n",
    "\n",
    "top10.sort_values(ascending=True).plot(kind='barh', color='skyblue')\n",
    "\n",
    "plt.title('Top 10 Produtos mais vendidos', fontsize = 16)\n",
    "plt.xlabel('Quantidade vendida', fontsize = 12)\n",
    "plt.ylabel('Produto', fontsize = 12)\n",
    "\n",
    "plt.tight_layout()\n",
    "plt.show()"
   ]
  },
  {
   "cell_type": "code",
   "execution_count": 34,
   "id": "bfd7fb48",
   "metadata": {},
   "outputs": [],
   "source": [
    "df_vendas['Mes'] = df_vendas['Data_pedido'].dt.to_period('M')"
   ]
  },
  {
   "cell_type": "code",
   "execution_count": 43,
   "id": "4882ead9",
   "metadata": {},
   "outputs": [],
   "source": [
    "faturamento_mensal = df_vendas.groupby('Mes')['Faturamento'].sum()"
   ]
  },
  {
   "cell_type": "code",
   "execution_count": 44,
   "id": "98b6ab3b",
   "metadata": {},
   "outputs": [],
   "source": [
    "faturamento_mensal.index = faturamento_mensal.index.strftime('%Y-%m')"
   ]
  },
  {
   "cell_type": "code",
   "execution_count": 45,
   "id": "cbdddc01",
   "metadata": {},
   "outputs": [
    {
     "data": {
      "application/vnd.microsoft.datawrangler.viewer.v0+json": {
       "columns": [
        {
         "name": "Mes",
         "rawType": "object",
         "type": "string"
        },
        {
         "name": "Faturamento",
         "rawType": "object",
         "type": "string"
        }
       ],
       "ref": "3aa2b586-45e9-4d50-898b-ac598df62ca9",
       "rows": [
        [
         "2026-01",
         "R$ 1,453,276.33"
        ],
        [
         "2026-02",
         "R$ 1,068,975.35"
        ],
        [
         "2026-03",
         "R$ 1,369,631.06"
        ],
        [
         "2026-04",
         "R$ 356,347.58"
        ]
       ],
       "shape": {
        "columns": 1,
        "rows": 4
       }
      },
      "text/plain": [
       "Mes\n",
       "2026-01    R$ 1,453,276.33\n",
       "2026-02    R$ 1,068,975.35\n",
       "2026-03    R$ 1,369,631.06\n",
       "2026-04      R$ 356,347.58\n",
       "Name: Faturamento, dtype: object"
      ]
     },
     "execution_count": 45,
     "metadata": {},
     "output_type": "execute_result"
    }
   ],
   "source": [
    "faturamento_mensal.map('R$ {:,.2f}'.format)"
   ]
  },
  {
   "cell_type": "code",
   "execution_count": 47,
   "id": "5f7a5b11",
   "metadata": {},
   "outputs": [
    {
     "data": {
      "image/png": "[encoded data removed]",
      "text/plain": [
       "<Figure size 1200x600 with 1 Axes>"
      ]
     },
     "metadata": {},
     "output_type": "display_data"
    }
   ],
   "source": [
    "plt.figure(figsize = (12, 6))\n",
    "\n",
    "faturamento_mensal.plot(kind='line', marker='o', linestyle='-', color='green')\n",
    "\n",
    "plt.title('Evolução do faturamento mensal', fontsize = 16)\n",
    "plt.xlabel('Mês', fontsize = 12)\n",
    "plt.ylabel('Faturamento (R$)', fontsize = 12)\n",
    "plt.xticks(rotation = 45)\n",
    "plt.grid(True, which = 'both', linestyle = '--', linewidth = 0.5)\n",
    "plt.tight_layout()\n",
    "plt.show()"
   ]
  },
  {
   "cell_type": "code",
   "execution_count": 50,
   "id": "e19c7bf8",
   "metadata": {},
   "outputs": [],
   "source": [
    "vendas_estado = df_vendas.groupby('Estado')['Faturamento'].sum().sort_values(ascending=False)"
   ]
  },
  {
   "cell_type": "code",
   "execution_count": 51,
   "id": "500f98b8",
   "metadata": {},
   "outputs": [
    {
     "data": {
      "application/vnd.microsoft.datawrangler.viewer.v0+json": {
       "columns": [
        {
         "name": "Estado",
         "rawType": "object",
         "type": "string"
        },
        {
         "name": "Faturamento",
         "rawType": "object",
         "type": "string"
        }
       ],
       "ref": "9120b836-b8f9-4ebb-acd2-923771816b14",
       "rows": [
        [
         "RJ",
         "R$ 782362.16"
        ],
        [
         "CE",
         "R$ 700601.29"
        ],
        [
         "SP",
         "R$ 630841.95"
        ],
        [
         "PR",
         "R$ 611033.69"
        ],
        [
         "MG",
         "R$ 567482.35"
        ],
        [
         "BA",
         "R$ 495316.99"
        ],
        [
         "RS",
         "R$ 460591.89"
        ]
       ],
       "shape": {
        "columns": 1,
        "rows": 7
       }
      },
      "text/plain": [
       "Estado\n",
       "RJ    R$ 782362.16\n",
       "CE    R$ 700601.29\n",
       "SP    R$ 630841.95\n",
       "PR    R$ 611033.69\n",
       "MG    R$ 567482.35\n",
       "BA    R$ 495316.99\n",
       "RS    R$ 460591.89\n",
       "Name: Faturamento, dtype: object"
      ]
     },
     "execution_count": 51,
     "metadata": {},
     "output_type": "execute_result"
    }
   ],
   "source": [
    "vendas_estado.map('R$ {:.2f}'.format)"
   ]
  },
  {
   "cell_type": "code",
   "execution_count": 63,
   "id": "518c2d32",
   "metadata": {},
   "outputs": [
    {
     "data": {
      "image/png": "[encoded data removed]",
      "text/plain": [
       "<Figure size 1200x700 with 1 Axes>"
      ]
     },
     "metadata": {},
     "output_type": "display_data"
    }
   ],
   "source": [
    "plt.figure(figsize = (12, 7))\n",
    "\n",
    "vendas_estado.plot(kind='bar', color = sns.color_palette('husl', 7))\n",
    "plt.title('Faturamento por estado', fontsize = 16)\n",
    "plt.xlabel('Estado', fontsize = 12)\n",
    "plt.ylabel('Faturamento', fontsize = 12)\n",
    "plt.xticks(rotation = 0)\n",
    "\n",
    "plt.tight_layout\n",
    "plt.show()"
   ]
  },
  {
   "cell_type": "code",
   "execution_count": 65,
   "id": "5bc7ba45",
   "metadata": {},
   "outputs": [],
   "source": [
    "faturamento_categoria = df_vendas.groupby('Categoria')['Faturamento'].sum().sort_values(ascending=False)"
   ]
  },
  {
   "cell_type": "code",
   "execution_count": 66,
   "id": "85784cdd",
   "metadata": {},
   "outputs": [
    {
     "data": {
      "application/vnd.microsoft.datawrangler.viewer.v0+json": {
       "columns": [
        {
         "name": "Categoria",
         "rawType": "object",
         "type": "string"
        },
        {
         "name": "Faturamento",
         "rawType": "object",
         "type": "string"
        }
       ],
       "ref": "b5d32205-86ce-495a-92e8-a28c8c1c8a7e",
       "rows": [
        [
         "Eletrônicos",
         "R$ 2310800.00"
        ],
        [
         "Hardware",
         "R$ 1176600.00"
        ],
        [
         "Acessórios",
         "R$ 453630.32"
        ],
        [
         "Móveis",
         "R$ 307200.00"
        ]
       ],
       "shape": {
        "columns": 1,
        "rows": 4
       }
      },
      "text/plain": [
       "Categoria\n",
       "Eletrônicos    R$ 2310800.00\n",
       "Hardware       R$ 1176600.00\n",
       "Acessórios      R$ 453630.32\n",
       "Móveis          R$ 307200.00\n",
       "Name: Faturamento, dtype: object"
      ]
     },
     "execution_count": 66,
     "metadata": {},
     "output_type": "execute_result"
    }
   ],
   "source": [
    "faturamento_categoria.map('R$ {:.2f}'.format) "
   ]
  },
  {
   "cell_type": "code",
   "execution_count": 67,
   "id": "d0ac294f",
   "metadata": {},
   "outputs": [],
   "source": [
    "from matplotlib.ticker import FuncFormatter"
   ]
  },
  {
   "cell_type": "code",
   "execution_count": 68,
   "id": "d0e30be0",
   "metadata": {},
   "outputs": [],
   "source": [
    "faturamento_ordenado = faturamento_categoria.sort_values(ascending = False)"
   ]
  },
  {
   "cell_type": "code",
   "execution_count": 69,
   "id": "fabb08a0",
   "metadata": {},
   "outputs": [
    {
     "data": {
      "text/plain": [
       "<function matplotlib.pyplot.show(close=None, block=None)>"
      ]
     },
     "execution_count": 69,
     "metadata": {},
     "output_type": "execute_result"
    },
    {
     "data": {
      "image/png": "[encoded data removed]",
      "text/plain": [
       "<Figure size 1200x700 with 1 Axes>"
      ]
     },
     "metadata": {},
     "output_type": "display_data"
    }
   ],
   "source": [
    "fig, ax = plt.subplots(figsize = (12, 7))\n",
    "\n",
    "def formatador_milhares(y, pos):\n",
    "    return f'R$ {y/1000:.0f}K'\n",
    "\n",
    "formatter = FuncFormatter(formatador_milhares)\n",
    "\n",
    "ax.yaxis.set_major_formatter(formatter)\n",
    "\n",
    "faturamento_ordenado.plot(kind = 'bar', ax = ax, color = sns.color_palette('viridis', len(faturamento_ordenado)))\n",
    "\n",
    "ax.set_title('Faturamento por categoria', fontsize = 16)\n",
    "ax.set_xlabel('Categoria', fontsize = 12)\n",
    "ax.set_ylabel('Faturamento', fontsize = 12)\n",
    "plt.xticks(rotation = 45, ha = 'right')\n",
    "\n",
    "plt.tight_layout\n",
    "plt.show"
   ]
  },
  {
   "cell_type": "code",
   "execution_count": null,
   "id": "a8ae8af8",
   "metadata": {},
   "outputs": [],
   "source": []
  }
 ],
 "metadata": {
  "kernelspec": {
   "display_name": "base",
   "language": "python",
   "name": "python3"
  },
  "language_info": {
   "codemirror_mode": {
    "name": "ipython",
    "version": 3
   },
   "file_extension": ".py",
   "mimetype": "text/x-python",
   "name": "python",
   "nbconvert_exporter": "python",
   "pygments_lexer": "ipython3",
   "version": "3.13.5"
  }
 },
 "nbformat": 4,
 "nbformat_minor": 5
}
